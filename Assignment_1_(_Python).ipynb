{
  "nbformat": 4,
  "nbformat_minor": 0,
  "metadata": {
    "colab": {
      "provenance": []
    },
    "kernelspec": {
      "name": "python3",
      "display_name": "Python 3"
    },
    "language_info": {
      "name": "python"
    }
  },
  "cells": [
    {
      "cell_type": "code",
      "execution_count": 1,
      "metadata": {
        "id": "o2bVjERxjNa0"
      },
      "outputs": [],
      "source": [
        "#Q1 eplain the key features of Python that make it a popular choice for programming\n",
        "\n",
        "\n",
        "# Versatility: Python is versatile and can be used for various applications such as web development,data analysis,machine learning and more.\n",
        "# Large Standard Library: Python comes with a large standard library that provides ready-to-use modules and packages for different tasks,reducing the need for writing code from scratch.\n",
        "# Community Support: Python has a vast and active community of developers who contribute to its growth,provide support,and create a wide range of third-party modules and libraries.\n",
        "# Ease Of Leaening: Python has a simple syntax,easy to learn,easy to understand,and write.\n",
        "# Read Ability: Reading a python code is just reading english that's why it is the language for beginners."
      ]
    },
    {
      "cell_type": "code",
      "source": [
        "#Q2 Describe the role of predefined keywords in python and provide examples of how they are used in a program\n",
        "\n",
        "\n",
        "# Keywords are reserved words in Python that have special meanings and cannot be used as identifiers (variable names, function names, etc.)\n",
        "# Examples of keywords include if, else, while, for, def, class, import, try, except, return, True, False, None, etc.\n",
        "# Keywords are case-sensitive and cannot be redefined or overridden within a Python program."
      ],
      "metadata": {
        "id": "QsOfLXBVrFMZ"
      },
      "execution_count": 4,
      "outputs": []
    },
    {
      "cell_type": "code",
      "source": [
        "# if/else statement\n",
        "# example\n",
        "\n",
        "x = 15\n",
        "if x > 10:\n",
        "  print(\"x is greater then 10\")\n",
        "else:\n",
        "  print(\"x is not greater then 10\")"
      ],
      "metadata": {
        "colab": {
          "base_uri": "https://localhost:8080/"
        },
        "id": "5edEakGgtlov",
        "outputId": "7914fea6-8444-448b-9187-f40d81f4278a"
      },
      "execution_count": 7,
      "outputs": [
        {
          "output_type": "stream",
          "name": "stdout",
          "text": [
            "x is greater then 10\n"
          ]
        }
      ]
    },
    {
      "cell_type": "code",
      "source": [
        "# if/elif:used for multiple condition\n",
        "# example\n",
        "\n",
        "x = 15\n",
        "if x > 10:\n",
        "  print(\"x is greater then 10\")\n",
        "elif x == 10:\n",
        "  print(\"x is equal to 10\")\n",
        "else:\n",
        "  print(\"x is not greater then 10\")"
      ],
      "metadata": {
        "colab": {
          "base_uri": "https://localhost:8080/"
        },
        "id": "I-xNy08guZZ0",
        "outputId": "7824ae54-ed7e-4629-e44f-dab6e2149217"
      },
      "execution_count": 14,
      "outputs": [
        {
          "output_type": "stream",
          "name": "stdout",
          "text": [
            "x is greater then 10\n"
          ]
        }
      ]
    },
    {
      "cell_type": "code",
      "source": [
        "# nested if\n",
        "# example\n",
        "\n",
        "x = 15\n",
        "y = 5\n",
        "if x > 10:\n",
        "  print(\"x is greater then 10\")\n",
        "  if y > 10:\n",
        "    print(\"y is greater then 10\")\n",
        "  else:\n",
        "    print(\"y is not greater then 10\")\n",
        "else:\n",
        "  print(\"x is not greater then 10\")\n"
      ],
      "metadata": {
        "colab": {
          "base_uri": "https://localhost:8080/"
        },
        "id": "fqZveWadwHgJ",
        "outputId": "40259f2a-9954-4c29-fe1f-16200f7a7786"
      },
      "execution_count": 15,
      "outputs": [
        {
          "output_type": "stream",
          "name": "stdout",
          "text": [
            "x is greater then 10\n",
            "y is not greater then 10\n"
          ]
        }
      ]
    },
    {
      "cell_type": "code",
      "source": [
        "# while loop statement:it allow us to execute a block of code repeatedly\n",
        "# example\n",
        "\n",
        "count = 0\n",
        "while count < 5:\n",
        "  print(count)\n",
        "  count += 1\n",
        ""
      ],
      "metadata": {
        "colab": {
          "base_uri": "https://localhost:8080/"
        },
        "id": "1fuNDCBXxdmM",
        "outputId": "90729517-9eec-4f11-c799-4ea4579c3801"
      },
      "execution_count": 20,
      "outputs": [
        {
          "output_type": "stream",
          "name": "stdout",
          "text": [
            "0\n",
            "1\n",
            "2\n",
            "3\n",
            "4\n"
          ]
        }
      ]
    },
    {
      "cell_type": "code",
      "source": [
        "# for statement:\n",
        "# example\n",
        "\n",
        "fruits = [\"apple\", \"banana\", \"cherry\"]\n",
        "for fruit in fruits:\n",
        "  print(fruit)"
      ],
      "metadata": {
        "colab": {
          "base_uri": "https://localhost:8080/"
        },
        "id": "aDdkacWtyM4t",
        "outputId": "907cc14c-9a94-44c8-a28d-7a399c113d62"
      },
      "execution_count": 21,
      "outputs": [
        {
          "output_type": "stream",
          "name": "stdout",
          "text": [
            "apple\n",
            "banana\n",
            "cherry\n"
          ]
        }
      ]
    },
    {
      "cell_type": "code",
      "source": [
        "#Q3 Compare and contrast mutable and immutable objects in python with examples\n",
        "\n",
        "# In Python, objects can be either changeable (modifiable) or unchangeable (unchangeable).\n",
        "# Mutable objects, such as lists and dictionaries, can be modified after creation, while immutable objects, such as tuples and strings, cannot.\n",
        "# Mutability affects how objects are stored and manipulated in memory, impacting performance, memory usage, and concurrency in Python programs."
      ],
      "metadata": {
        "id": "mPTVTfG3zAYQ"
      },
      "execution_count": 22,
      "outputs": []
    },
    {
      "cell_type": "code",
      "source": [
        "# mutable example:\n",
        "\n",
        "letter = [1,2,3,5,\"tanu\"]\n",
        "letter[4] = \"harsh\"\n",
        "print(letter)"
      ],
      "metadata": {
        "colab": {
          "base_uri": "https://localhost:8080/"
        },
        "id": "SspSv-e8zwlv",
        "outputId": "6c08206b-6836-41eb-8bce-aa7d51d9c3f0"
      },
      "execution_count": 27,
      "outputs": [
        {
          "output_type": "stream",
          "name": "stdout",
          "text": [
            "[1, 2, 3, 5, 'harsh']\n"
          ]
        }
      ]
    },
    {
      "cell_type": "code",
      "source": [
        "# immutability example : which cannot be changed\n",
        "\n",
        "letter = \"beautiful\"\n",
        "letter[2] = \"h\""
      ],
      "metadata": {
        "colab": {
          "base_uri": "https://localhost:8080/",
          "height": 176
        },
        "id": "QkVRfyJf0RY5",
        "outputId": "f6feed1c-9c7d-4175-8a1f-2b21c9233b20"
      },
      "execution_count": 28,
      "outputs": [
        {
          "output_type": "error",
          "ename": "TypeError",
          "evalue": "'str' object does not support item assignment",
          "traceback": [
            "\u001b[0;31m---------------------------------------------------------------------------\u001b[0m",
            "\u001b[0;31mTypeError\u001b[0m                                 Traceback (most recent call last)",
            "\u001b[0;32m<ipython-input-28-5ab84327db5c>\u001b[0m in \u001b[0;36m<cell line: 4>\u001b[0;34m()\u001b[0m\n\u001b[1;32m      2\u001b[0m \u001b[0;34m\u001b[0m\u001b[0m\n\u001b[1;32m      3\u001b[0m \u001b[0mletter\u001b[0m \u001b[0;34m=\u001b[0m \u001b[0;34m\"beautiful\"\u001b[0m\u001b[0;34m\u001b[0m\u001b[0;34m\u001b[0m\u001b[0m\n\u001b[0;32m----> 4\u001b[0;31m \u001b[0mletter\u001b[0m\u001b[0;34m[\u001b[0m\u001b[0;36m2\u001b[0m\u001b[0;34m]\u001b[0m \u001b[0;34m=\u001b[0m \u001b[0;34m\"h\"\u001b[0m\u001b[0;34m\u001b[0m\u001b[0;34m\u001b[0m\u001b[0m\n\u001b[0m",
            "\u001b[0;31mTypeError\u001b[0m: 'str' object does not support item assignment"
          ]
        }
      ]
    },
    {
      "cell_type": "code",
      "source": [
        "#Q4 Discuss the different types of operators in python and provide examples of how they are used\n",
        "\n",
        "\n",
        "# Operators are special symbols or keywords that are used to carry out specific actions on numbers or variables in Python expressions.\n",
        "# Python supports various types of operators, including arithmetic operators (+, -, *, /), comparison operators (==, !=, <, >), logical operators (and, or, not), assignment operators (=, +=, -=, *=, /=), etc.\n",
        "# Operators have precedence and associativity rules that determine the order of evaluation in expressions.\n"
      ],
      "metadata": {
        "id": "Vd7fJLJj1GOP"
      },
      "execution_count": 29,
      "outputs": []
    },
    {
      "cell_type": "code",
      "source": [
        "#1 Arithmetic operators: addition(+):used to add two operands\n",
        "# example\n",
        "\n",
        "a = 5\n",
        "b = 3\n",
        "a+b"
      ],
      "metadata": {
        "colab": {
          "base_uri": "https://localhost:8080/"
        },
        "id": "4lU4aREk1vmX",
        "outputId": "9b75b602-50f9-4ced-ddd3-7b79531dd3fb"
      },
      "execution_count": 30,
      "outputs": [
        {
          "output_type": "execute_result",
          "data": {
            "text/plain": [
              "8"
            ]
          },
          "metadata": {},
          "execution_count": 30
        }
      ]
    },
    {
      "cell_type": "code",
      "source": [
        "# subtraction(-):used to subtract the second operand from the first\n",
        "# example\n",
        "\n",
        "a = 8\n",
        "b = 3\n",
        "a-b"
      ],
      "metadata": {
        "colab": {
          "base_uri": "https://localhost:8080/"
        },
        "id": "nyEG2opv2MEg",
        "outputId": "19edaa0d-5cce-4594-8bc0-e10de9f49683"
      },
      "execution_count": 31,
      "outputs": [
        {
          "output_type": "execute_result",
          "data": {
            "text/plain": [
              "5"
            ]
          },
          "metadata": {},
          "execution_count": 31
        }
      ]
    },
    {
      "cell_type": "code",
      "source": [
        "# multiplication(*):used to multiply two operands\n",
        "# example\n",
        "\n",
        "a = 4\n",
        "b = 6\n",
        "a*b"
      ],
      "metadata": {
        "colab": {
          "base_uri": "https://localhost:8080/"
        },
        "id": "Etqyr3av2gi0",
        "outputId": "c29ac739-0e79-46d7-89cd-0fdfa6e0da11"
      },
      "execution_count": 32,
      "outputs": [
        {
          "output_type": "execute_result",
          "data": {
            "text/plain": [
              "24"
            ]
          },
          "metadata": {},
          "execution_count": 32
        }
      ]
    },
    {
      "cell_type": "code",
      "source": [
        "# Division(/):used to divide the first operand by the second\n",
        "# example\n",
        "\n",
        "a = 10\n",
        "b = 2\n",
        "a/b"
      ],
      "metadata": {
        "colab": {
          "base_uri": "https://localhost:8080/"
        },
        "id": "8a0g0tLe20Sw",
        "outputId": "10e011a9-514a-4446-8144-c7ddeee41d5a"
      },
      "execution_count": 33,
      "outputs": [
        {
          "output_type": "execute_result",
          "data": {
            "text/plain": [
              "5.0"
            ]
          },
          "metadata": {},
          "execution_count": 33
        }
      ]
    },
    {
      "cell_type": "code",
      "source": [
        "#2 Compaeison operators:equal to(==):checks if two operands are equal\n",
        "# example\n",
        "\n",
        "a = 5\n",
        "b = 5\n",
        "(a==b)"
      ],
      "metadata": {
        "colab": {
          "base_uri": "https://localhost:8080/"
        },
        "id": "eJVjoiRm3GDz",
        "outputId": "578daf47-8ed6-47b0-b089-8cc33a4ddb41"
      },
      "execution_count": 34,
      "outputs": [
        {
          "output_type": "execute_result",
          "data": {
            "text/plain": [
              "True"
            ]
          },
          "metadata": {},
          "execution_count": 34
        }
      ]
    },
    {
      "cell_type": "code",
      "source": [
        "# Not equal to(!=):checks if two operands are not equal\n",
        "# example\n",
        "\n",
        "a = 5\n",
        "b = 3\n",
        "(a != b)"
      ],
      "metadata": {
        "colab": {
          "base_uri": "https://localhost:8080/"
        },
        "id": "0OaScght3hpd",
        "outputId": "a7df7c49-3103-4f75-9e81-a1dabaaf8a5a"
      },
      "execution_count": 35,
      "outputs": [
        {
          "output_type": "execute_result",
          "data": {
            "text/plain": [
              "True"
            ]
          },
          "metadata": {},
          "execution_count": 35
        }
      ]
    },
    {
      "cell_type": "code",
      "source": [
        "#3 Logical operators:AND(and):returns true if both operands are true\n",
        "# example\n",
        "\n",
        "a = True\n",
        "b = False\n",
        "a and b"
      ],
      "metadata": {
        "colab": {
          "base_uri": "https://localhost:8080/"
        },
        "id": "ZMtfnqNj34ln",
        "outputId": "b61ff1b0-e6f9-4018-f863-1e3bf7cf6bf0"
      },
      "execution_count": 36,
      "outputs": [
        {
          "output_type": "execute_result",
          "data": {
            "text/plain": [
              "False"
            ]
          },
          "metadata": {},
          "execution_count": 36
        }
      ]
    },
    {
      "cell_type": "code",
      "source": [
        "# OR(or):returns true if at least one operand is true\n",
        "# example\n",
        "\n",
        "a = True\n",
        "b = False\n",
        "a or b"
      ],
      "metadata": {
        "colab": {
          "base_uri": "https://localhost:8080/"
        },
        "id": "D7KYQUby4bTs",
        "outputId": "5c85fcae-7f0f-4066-b063-6a02f7093ef1"
      },
      "execution_count": 37,
      "outputs": [
        {
          "output_type": "execute_result",
          "data": {
            "text/plain": [
              "True"
            ]
          },
          "metadata": {},
          "execution_count": 37
        }
      ]
    },
    {
      "cell_type": "code",
      "source": [
        "#Q5 Explain the concept of type casting in python with examples\n",
        "\n",
        "# Type casting, also referred to as type conversion, is the process of changing one data type to another in Python.\n",
        "# It allows you to convert values from one data type to another, such as converting a string to an integer or a float to a string\n",
        "# Python provides built-in functions for type casting, such as int(), float(), str(), list(), tuple(), dict(), etc.\n",
        "# Type casting is often necessary for performing arithmetic operations, data manipulation, and input/output operations in Python programs.\n"
      ],
      "metadata": {
        "id": "_t_RBx1i4vrL"
      },
      "execution_count": 38,
      "outputs": []
    },
    {
      "cell_type": "code",
      "source": [
        "# integer to float\n",
        "# example\n",
        "\n",
        "number = 2\n",
        "print(type(number))\n",
        "change = float(number)\n",
        "print(change)\n",
        "print(type(change))"
      ],
      "metadata": {
        "colab": {
          "base_uri": "https://localhost:8080/"
        },
        "id": "x-up_E6W5oHI",
        "outputId": "cefafa7d-a092-4fd7-f0f5-8255089a7f3f"
      },
      "execution_count": 39,
      "outputs": [
        {
          "output_type": "stream",
          "name": "stdout",
          "text": [
            "<class 'int'>\n",
            "2.0\n",
            "<class 'float'>\n"
          ]
        }
      ]
    },
    {
      "cell_type": "code",
      "source": [
        "# float to string\n",
        "# example\n",
        "\n",
        "number = 4.0\n",
        "print(type(number))\n",
        "change = str(number)\n",
        "print(change)\n",
        "print(type(change))"
      ],
      "metadata": {
        "colab": {
          "base_uri": "https://localhost:8080/"
        },
        "id": "BXpRSR9d6Gzw",
        "outputId": "6dc26c95-871b-40f3-e7b7-852a961f7b2e"
      },
      "execution_count": 40,
      "outputs": [
        {
          "output_type": "stream",
          "name": "stdout",
          "text": [
            "<class 'float'>\n",
            "4.0\n",
            "<class 'str'>\n"
          ]
        }
      ]
    },
    {
      "cell_type": "code",
      "source": [
        "# integer to boolean\n",
        "# example\n",
        "\n",
        "number = 2\n",
        "print(type(number))\n",
        "change = bool(number)\n",
        "print(change)\n",
        "print(type(change))"
      ],
      "metadata": {
        "colab": {
          "base_uri": "https://localhost:8080/"
        },
        "id": "p-3ACTDk6h5Q",
        "outputId": "f36abdcd-896b-435f-d246-ae10228ee96a"
      },
      "execution_count": 41,
      "outputs": [
        {
          "output_type": "stream",
          "name": "stdout",
          "text": [
            "<class 'int'>\n",
            "True\n",
            "<class 'bool'>\n"
          ]
        }
      ]
    },
    {
      "cell_type": "code",
      "source": [
        "# string to integer: will raise a valueError\n",
        "#example\n",
        "\n",
        "name = \"tanu\"\n",
        "print(type(name))\n",
        "change = int(name)\n",
        "print(change)"
      ],
      "metadata": {
        "colab": {
          "base_uri": "https://localhost:8080/",
          "height": 211
        },
        "id": "s_54zwnD6-QU",
        "outputId": "c98bd729-8d8a-43f4-c470-aa000db9d50e"
      },
      "execution_count": 42,
      "outputs": [
        {
          "output_type": "stream",
          "name": "stdout",
          "text": [
            "<class 'str'>\n"
          ]
        },
        {
          "output_type": "error",
          "ename": "ValueError",
          "evalue": "invalid literal for int() with base 10: 'tanu'",
          "traceback": [
            "\u001b[0;31m---------------------------------------------------------------------------\u001b[0m",
            "\u001b[0;31mValueError\u001b[0m                                Traceback (most recent call last)",
            "\u001b[0;32m<ipython-input-42-ac62c243550a>\u001b[0m in \u001b[0;36m<cell line: 6>\u001b[0;34m()\u001b[0m\n\u001b[1;32m      4\u001b[0m \u001b[0mname\u001b[0m \u001b[0;34m=\u001b[0m \u001b[0;34m\"tanu\"\u001b[0m\u001b[0;34m\u001b[0m\u001b[0;34m\u001b[0m\u001b[0m\n\u001b[1;32m      5\u001b[0m \u001b[0mprint\u001b[0m\u001b[0;34m(\u001b[0m\u001b[0mtype\u001b[0m\u001b[0;34m(\u001b[0m\u001b[0mname\u001b[0m\u001b[0;34m)\u001b[0m\u001b[0;34m)\u001b[0m\u001b[0;34m\u001b[0m\u001b[0;34m\u001b[0m\u001b[0m\n\u001b[0;32m----> 6\u001b[0;31m \u001b[0mchange\u001b[0m \u001b[0;34m=\u001b[0m \u001b[0mint\u001b[0m\u001b[0;34m(\u001b[0m\u001b[0mname\u001b[0m\u001b[0;34m)\u001b[0m\u001b[0;34m\u001b[0m\u001b[0;34m\u001b[0m\u001b[0m\n\u001b[0m\u001b[1;32m      7\u001b[0m \u001b[0mprint\u001b[0m\u001b[0;34m(\u001b[0m\u001b[0mchange\u001b[0m\u001b[0;34m)\u001b[0m\u001b[0;34m\u001b[0m\u001b[0;34m\u001b[0m\u001b[0m\n",
            "\u001b[0;31mValueError\u001b[0m: invalid literal for int() with base 10: 'tanu'"
          ]
        }
      ]
    },
    {
      "cell_type": "code",
      "source": [
        "# string to list\n",
        "# example\n",
        "\n",
        "name = \"tanu\"\n",
        "print(type(name))\n",
        "change = list(name)\n",
        "print(change)\n",
        "print(type(change))"
      ],
      "metadata": {
        "colab": {
          "base_uri": "https://localhost:8080/"
        },
        "id": "YGUvyleE7mg3",
        "outputId": "1b40a573-f9a5-4c0b-8f70-02540a6592ed"
      },
      "execution_count": 43,
      "outputs": [
        {
          "output_type": "stream",
          "name": "stdout",
          "text": [
            "<class 'str'>\n",
            "['t', 'a', 'n', 'u']\n",
            "<class 'list'>\n"
          ]
        }
      ]
    },
    {
      "cell_type": "code",
      "source": [
        "#Q6 how do conditional statements work in python?illustrate with examples\n",
        "\n",
        "\n",
        "# Conditionals in Python are used to execute code based on the evaluation of one or more conditions.\n",
        "# Python supports conditional statements such as if, elif (else if), and else to control the flow of execution.\n",
        "# Conditionals can be nested to handle multiple conditions and control different branches of execution based on the outcome of logical expressions.\n"
      ],
      "metadata": {
        "id": "lvbWjcFH7-5e"
      },
      "execution_count": 44,
      "outputs": []
    },
    {
      "cell_type": "code",
      "source": [
        "# how to use 'if' statement:execute the 'if' block,if the condition is true then you will go inside indentation box\n",
        "# example\n",
        "\n",
        "a = 100\n",
        "if a > 0:\n",
        "  print(\"the number is greater then 0.\")"
      ],
      "metadata": {
        "colab": {
          "base_uri": "https://localhost:8080/"
        },
        "id": "zRmeKhjW8m15",
        "outputId": "60fc2af9-cf06-4296-d578-64fdd38face0"
      },
      "execution_count": 45,
      "outputs": [
        {
          "output_type": "stream",
          "name": "stdout",
          "text": [
            "the number is greater then 0.\n"
          ]
        }
      ]
    },
    {
      "cell_type": "code",
      "source": [
        "# false statement:so if you take false statement and execute it will print nothing\n",
        "# example\n",
        "\n",
        "a = 100\n",
        "if a < 0:\n",
        "  print(\"the number is greater then 0.\")"
      ],
      "metadata": {
        "id": "p-OLCEpD9oMe"
      },
      "execution_count": 46,
      "outputs": []
    },
    {
      "cell_type": "code",
      "source": [
        "# how to use'else' statement:the 'else' statement allows you to execute a different block of code if the 'if' condition is false\n",
        "# example\n",
        "\n",
        "num = -5\n",
        "if num > 0:\n",
        "  print(\"the number is positive.\")\n",
        "else:\n",
        "    print(\"the number is negative.\")"
      ],
      "metadata": {
        "colab": {
          "base_uri": "https://localhost:8080/"
        },
        "id": "wstRInzu-Fth",
        "outputId": "d315ff11-4a83-407e-c1b1-7a0eedb3dc1e"
      },
      "execution_count": 48,
      "outputs": [
        {
          "output_type": "stream",
          "name": "stdout",
          "text": [
            "the number is negative.\n"
          ]
        }
      ]
    },
    {
      "cell_type": "code",
      "source": [
        "# how to use'elif' statement: the 'elif' statement allows you to check multiple conditions in sequence,and execute different code blocks depending on which condition is true\n",
        "# example\n",
        "\n",
        "a = 10\n",
        "if a > 100:\n",
        "  print(\"the number is greater then 100.\")\n",
        "elif a < 100:\n",
        "    print(\"the number is less then 100.\")\n",
        "else:\n",
        "      print(\"the number is equal to 100.\")"
      ],
      "metadata": {
        "colab": {
          "base_uri": "https://localhost:8080/"
        },
        "id": "YuIfQMCK-x8x",
        "outputId": "173ee09e-5a43-4a83-f562-ba0fd0003c8c"
      },
      "execution_count": 50,
      "outputs": [
        {
          "output_type": "stream",
          "name": "stdout",
          "text": [
            "the number is less then 100.\n"
          ]
        }
      ]
    },
    {
      "cell_type": "code",
      "source": [
        "#Q7 Describe the different types of loops in python and their use cases with examples\n",
        "\n",
        "\n",
        "# In Python, loops are employed to repeat a sequence of actions or code until a specific condition is fulfilled.\n",
        "# Python offers two primary types of loops: for loops and while loops.\n",
        "# “for” loops are used for iterating over a sequence of elements, while “while” loops are used for executing code until a specified condition becomes False\n",
        "\n"
      ],
      "metadata": {
        "id": "v_-mKhtU_9d6"
      },
      "execution_count": 51,
      "outputs": []
    },
    {
      "cell_type": "code",
      "source": [
        "# For loop:use case:the 'for' loop is typically used when you know the number of iterations or when you want to iterate over a sequence like a list,tuple,string or range\n",
        "# example\n",
        "\n",
        "fruits = [\"apple\", \"banana\", \"cherry\"]\n",
        "for fruit in fruits:\n",
        "  print(fruit)"
      ],
      "metadata": {
        "colab": {
          "base_uri": "https://localhost:8080/"
        },
        "id": "LL_jzP4TAnDd",
        "outputId": "34ae114b-dcee-47ce-a56c-7037863ecb6e"
      },
      "execution_count": 52,
      "outputs": [
        {
          "output_type": "stream",
          "name": "stdout",
          "text": [
            "apple\n",
            "banana\n",
            "cherry\n"
          ]
        }
      ]
    },
    {
      "cell_type": "code",
      "source": [
        "# while loop:use case:the 'while' loop is used when you are uncertain about the number of iterations and want to continue looping until a certain condition is met\n",
        "# example\n",
        "\n",
        "count = 0\n",
        "while count < 5:\n",
        "  print(count)\n",
        "  count += 1"
      ],
      "metadata": {
        "colab": {
          "base_uri": "https://localhost:8080/"
        },
        "id": "ZRWIPJZ_BkEA",
        "outputId": "ec5457cc-e706-4a7c-eaa2-17e4c6a85350"
      },
      "execution_count": 53,
      "outputs": [
        {
          "output_type": "stream",
          "name": "stdout",
          "text": [
            "0\n",
            "1\n",
            "2\n",
            "3\n",
            "4\n"
          ]
        }
      ]
    },
    {
      "cell_type": "code",
      "source": [],
      "metadata": {
        "id": "a1S-n0WaCHik"
      },
      "execution_count": null,
      "outputs": []
    }
  ]
}